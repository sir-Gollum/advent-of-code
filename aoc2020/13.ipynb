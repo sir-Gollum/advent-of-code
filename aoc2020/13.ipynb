{
 "cells": [
  {
   "cell_type": "code",
   "execution_count": 31,
   "metadata": {},
   "outputs": [],
   "source": [
    "inp = '''\n",
    "1006697\n",
    "13,x,x,41,x,x,x,x,x,x,x,x,x,641,x,x,x,x,x,x,x,x,x,x,x,19,x,x,x,x,17,x,x,x,x,x,x,x,x,x,x,x,29,x,661,x,x,x,x,x,37,x,x,x,x,x,x,x,x,x,x,x,x,x,x,x,x,23\n",
    "'''.strip().splitlines()"
   ]
  },
  {
   "cell_type": "code",
   "execution_count": 1,
   "metadata": {},
   "outputs": [],
   "source": [
    "inp = '''\n",
    "939\n",
    "7,13,x,x,59,x,31,19\n",
    "'''.strip().splitlines()"
   ]
  },
  {
   "cell_type": "code",
   "execution_count": 15,
   "metadata": {},
   "outputs": [
    {
     "data": {
      "text/plain": [
       "['1006697',\n",
       " '13,x,x,41,x,x,x,x,x,x,x,x,x,641,x,x,x,x,x,x,x,x,x,x,x,19,x,x,x,x,17,x,x,x,x,x,x,x,x,x,x,x,29,x,661,x,x,x,x,x,37,x,x,x,x,x,x,x,x,x,x,x,x,x,x,x,x,23']"
      ]
     },
     "execution_count": 15,
     "metadata": {},
     "output_type": "execute_result"
    }
   ],
   "source": [
    "inp"
   ]
  },
  {
   "cell_type": "code",
   "execution_count": 16,
   "metadata": {},
   "outputs": [],
   "source": [
    "earliest = int(inp[0])\n",
    "buses = [int(i) for i in inp[1].split(',') if i != 'x']"
   ]
  },
  {
   "cell_type": "code",
   "execution_count": 17,
   "metadata": {},
   "outputs": [
    {
     "data": {
      "text/plain": [
       "[13, 41, 641, 19, 17, 29, 661, 37, 23]"
      ]
     },
     "execution_count": 17,
     "metadata": {},
     "output_type": "execute_result"
    }
   ],
   "source": [
    "buses"
   ]
  },
  {
   "cell_type": "code",
   "execution_count": 18,
   "metadata": {},
   "outputs": [
    {
     "name": "stdout",
     "output_type": "stream",
     "text": [
      "Wait 6 till timestamp 1006703 and ride bus 661 . Answer 3966\n"
     ]
    }
   ],
   "source": [
    "found = False\n",
    "for wait in range(1000):\n",
    "    if found:\n",
    "        break\n",
    "        \n",
    "    ts = earliest + wait\n",
    "    \n",
    "    for b in buses:\n",
    "        if ts % b == 0:\n",
    "            print('Wait', wait, 'till timestamp', ts, 'and ride bus', b, '. Answer', b * wait)\n",
    "            found = True\n",
    "            break\n",
    "    \n",
    "    "
   ]
  },
  {
   "cell_type": "code",
   "execution_count": null,
   "metadata": {},
   "outputs": [],
   "source": []
  },
  {
   "cell_type": "code",
   "execution_count": 19,
   "metadata": {},
   "outputs": [],
   "source": [
    "# second part"
   ]
  },
  {
   "cell_type": "code",
   "execution_count": 184,
   "metadata": {},
   "outputs": [
    {
     "data": {
      "text/plain": [
       "[13, 'x', 'x', 41, 'x', 'x', 'x', 'x', 'x', 'x']"
      ]
     },
     "execution_count": 184,
     "metadata": {},
     "output_type": "execute_result"
    }
   ],
   "source": [
    "# buses = [17,'x',13,19]\n",
    "# buses = [67,7,59,61]\n",
    "# buses = [67, 'x', 7,59,61]\n",
    "# buses = [67,7,'x',59,61]\n",
    "# buses = [1789,37, 47 ,2]\n",
    "buses = [1789,37,47,1889]\n",
    "\n",
    "\n",
    "buses = [\n",
    "    int(i) if i != 'x' else i \n",
    "    for i in  inp[1].split(',')\n",
    "]\n",
    "buses[:10]"
   ]
  },
  {
   "cell_type": "code",
   "execution_count": 191,
   "metadata": {},
   "outputs": [
    {
     "name": "stdout",
     "output_type": "stream",
     "text": [
      "E        3       2            1  \n",
      "A  [0, 'x', 'x', 38, 'x', 'x', 'x', 'x', 'x', 'x', 'x', 'x', 'x', 628, 'x', 'x', 'x', 'x', 'x', 'x', 'x', 'x', 'x', 'x', 'x', 13, 'x', 'x', 'x', 'x', 4, 'x', 'x', 'x', 'x', 'x', 'x', 'x', 'x', 'x', 'x', 'x', 16, 'x', 617, 'x', 'x', 'x', 'x', 'x', 24, 'x', 'x', 'x', 'x', 'x', 'x', 'x', 'x', 'x', 'x', 'x', 'x', 'x', 'x', 'x', 'x', 2]\n",
      "mi [13, 'x', 'x', 41, 'x', 'x', 'x', 'x', 'x', 'x', 'x', 'x', 'x', 641, 'x', 'x', 'x', 'x', 'x', 'x', 'x', 'x', 'x', 'x', 'x', 19, 'x', 'x', 'x', 'x', 17, 'x', 'x', 'x', 'x', 'x', 'x', 'x', 'x', 'x', 'x', 'x', 29, 'x', 661, 'x', 'x', 'x', 'x', 'x', 37, 'x', 'x', 'x', 'x', 'x', 'x', 'x', 'x', 'x', 'x', 'x', 'x', 'x', 'x', 'x', 'x', 23]\n",
      "M0 1800183506587661\n",
      "MI [138475654352897, 'x', 'x', 43906914794821, 'x', 'x', 'x', 'x', 'x', 'x', 'x', 'x', 'x', 2808398606221, 'x', 'x', 'x', 'x', 'x', 'x', 'x', 'x', 'x', 'x', 'x', 94746500346719, 'x', 'x', 'x', 'x', 105893147446333, 'x', 'x', 'x', 'x', 'x', 'x', 'x', 'x', 'x', 'x', 'x', 62075293330609, 'x', 2723424367001, 'x', 'x', 'x', 'x', 'x', 48653608286153, 'x', 'x', 'x', 'x', 'x', 'x', 'x', 'x', 'x', 'x', 'x', 'x', 'x', 'x', 'x', 'x', 78268848112507]\n",
      "Searcing 138475654352897 138475654352897 0 13\n",
      "Searcing 43906914794821 43906914794821 38 41\n",
      "Searcing 2808398606221 2808398606221 628 641\n",
      "Searcing 94746500346719 94746500346719 13 19\n",
      "Searcing 105893147446333 105893147446333 4 17\n",
      "Searcing 62075293330609 62075293330609 16 29\n",
      "Searcing 2723424367001 2723424367001 617 661\n",
      "Searcing 48653608286153 48653608286153 24 37\n",
      "Searcing 78268848112507 78268848112507 2 23\n",
      "Y  [0, 'x', 'x', 10, 'x', 'x', 'x', 'x', 'x', 'x', 'x', 'x', 'x', 429, 'x', 'x', 'x', 'x', 'x', 'x', 'x', 'x', 'x', 'x', 'x', 8, 'x', 'x', 'x', 'x', 6, 'x', 'x', 'x', 'x', 'x', 'x', 'x', 'x', 'x', 'x', 'x', 14, 'x', 632, 'x', 'x', 'x', 'x', 'x', 15, 'x', 'x', 'x', 'x', 'x', 'x', 'x', 'x', 'x', 'x', 'x', 'x', 'x', 'x', 'x', 'x', 21]\n"
     ]
    },
    {
     "data": {
      "text/plain": [
       "800177252346225"
      ]
     },
     "execution_count": 191,
     "metadata": {},
     "output_type": "execute_result"
    }
   ],
   "source": [
    "# x === 0 (mod buses[0]) || (buses[0] - idx) (mod buses[0])\n",
    "# x === (buses[1]-idx) (mod buses[1])\n",
    "#        7 - 2 == 5\n",
    "#        7 - 18\n",
    "# x === (buses[2]-idx) (mod buses[2])\n",
    "# x === A[i] (mod m[i])\n",
    "# ...\n",
    "# https://www.youtube.com/watch?v=lDXZ01Jj1Mk\n",
    "#         0   1   2    3    4    5   6  7\n",
    "# buses = ['x', 6, 'x',  5, 'x',  'x', 7, 'x']\n",
    "\n",
    "A = []\n",
    "for idx, b in enumerate(buses):\n",
    "    if b == 'x':\n",
    "        A.append(b)\n",
    "        continue\n",
    "    \n",
    "    if idx == 0:\n",
    "        A.append(0)\n",
    "    else:\n",
    "        A.append(b - (idx % b))\n",
    "\n",
    "M0 = 1\n",
    "for idx, b in enumerate(buses):\n",
    "    if b == 'x':\n",
    "        continue\n",
    "    M0 *= b\n",
    "    \n",
    "MI = []\n",
    "for idx, b in enumerate(buses):\n",
    "    if b == 'x':\n",
    "        MI.append(b)\n",
    "        continue\n",
    "        \n",
    "    assert M0 % b == 0\n",
    "    MI.append(int(M0 / b))\n",
    "\n",
    "print('E        3       2            1  ')\n",
    "print('A ', A)\n",
    "print('mi', buses)\n",
    "print('M0', M0)\n",
    "print('MI', MI)\n",
    "\n",
    "# a[i] * y[i] = \n",
    "\n",
    "Y = []\n",
    "for idx, b in enumerate(buses):\n",
    "    if b == 'x':\n",
    "        Y.append('x')\n",
    "        continue\n",
    "        \n",
    "    mult = MI[idx]\n",
    "    print('Searcing', MI[idx], mult, A[idx], b)\n",
    "    for i in range(10000000000):\n",
    "        if (mult * i) % b == A[idx]:\n",
    "            Y.append(i)\n",
    "            break    \n",
    "    else:\n",
    "        assert False, 'no solutions :('\n",
    "        \n",
    "print('Y ', Y)\n",
    "\n",
    "X = 0        \n",
    "for idx, b in enumerate(buses):\n",
    "    if b == 'x':\n",
    "        continue\n",
    "    \n",
    "    X += MI[idx] * Y[idx]\n",
    "\n",
    "X % M0"
   ]
  },
  {
   "cell_type": "code",
   "execution_count": null,
   "metadata": {},
   "outputs": [],
   "source": []
  }
 ],
 "metadata": {
  "kernelspec": {
   "display_name": "Python 3",
   "language": "python",
   "name": "python3"
  },
  "language_info": {
   "codemirror_mode": {
    "name": "ipython",
    "version": 3
   },
   "file_extension": ".py",
   "mimetype": "text/x-python",
   "name": "python",
   "nbconvert_exporter": "python",
   "pygments_lexer": "ipython3",
   "version": "3.8.1"
  }
 },
 "nbformat": 4,
 "nbformat_minor": 4
}
