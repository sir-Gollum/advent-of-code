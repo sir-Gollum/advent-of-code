{
 "cells": [
  {
   "cell_type": "code",
   "execution_count": 18,
   "metadata": {},
   "outputs": [],
   "source": [
    "card_pubkey = 8987316\n",
    "door_pubkey = 14681524"
   ]
  },
  {
   "cell_type": "code",
   "execution_count": 2,
   "metadata": {},
   "outputs": [],
   "source": [
    "card_pubkey = 5764801\n",
    "door_pubkey = 17807724"
   ]
  },
  {
   "cell_type": "code",
   "execution_count": 23,
   "metadata": {},
   "outputs": [
    {
     "name": "stdout",
     "output_type": "stream",
     "text": [
      "LS card: 2541700, door: 4208732\n"
     ]
    },
    {
     "data": {
      "text/plain": [
       "(15217943, 15217943, True)"
      ]
     },
     "execution_count": 23,
     "metadata": {},
     "output_type": "execute_result"
    }
   ],
   "source": [
    "def trans(value, subject_number):\n",
    "    return (value * subject_number) % 20201227\n",
    "    \n",
    "\n",
    "def get_loop_size(pubkey):\n",
    "    ls = 0\n",
    "    v, subnum = 1, 7\n",
    "\n",
    "    for ls in range(50_000_000):\n",
    "        if v == pubkey:\n",
    "            return ls\n",
    "\n",
    "        v = trans(v, subnum)\n",
    "    \n",
    "    return -1\n",
    "\n",
    "        \n",
    "        \n",
    "ls_card = get_loop_size(card_pubkey)\n",
    "ls_door = get_loop_size(door_pubkey)\n",
    "\n",
    "print(f'LS card: {ls_card}, door: {ls_door}')\n",
    "\n",
    "enc_key_card = 1\n",
    "for _ in range(ls_card):\n",
    "    enc_key_card = trans(enc_key_card, door_pubkey)\n",
    "\n",
    "enc_key_door = 1\n",
    "for _ in range(ls_door):\n",
    "    enc_key_door = trans(enc_key_door, card_pubkey)\n",
    "\n",
    "    \n",
    "    \n",
    "enc_key_card, enc_key_door, enc_key_card == enc_key_door"
   ]
  },
  {
   "cell_type": "code",
   "execution_count": null,
   "metadata": {},
   "outputs": [],
   "source": []
  }
 ],
 "metadata": {
  "kernelspec": {
   "display_name": "Python 3",
   "language": "python",
   "name": "python3"
  },
  "language_info": {
   "codemirror_mode": {
    "name": "ipython",
    "version": 3
   },
   "file_extension": ".py",
   "mimetype": "text/x-python",
   "name": "python",
   "nbconvert_exporter": "python",
   "pygments_lexer": "ipython3",
   "version": "3.8.3"
  }
 },
 "nbformat": 4,
 "nbformat_minor": 4
}
