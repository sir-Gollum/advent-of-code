{
 "cells": [
  {
   "cell_type": "code",
   "execution_count": 112,
   "metadata": {},
   "outputs": [],
   "source": [
    "inp = list(map(int, '''\n",
    "99\n",
    "3\n",
    "1\n",
    "11\n",
    "48\n",
    "113\n",
    "131\n",
    "43\n",
    "82\n",
    "19\n",
    "4\n",
    "153\n",
    "105\n",
    "52\n",
    "56\n",
    "109\n",
    "27\n",
    "119\n",
    "147\n",
    "31\n",
    "34\n",
    "13\n",
    "129\n",
    "17\n",
    "61\n",
    "10\n",
    "29\n",
    "24\n",
    "12\n",
    "104\n",
    "152\n",
    "103\n",
    "80\n",
    "116\n",
    "79\n",
    "73\n",
    "21\n",
    "133\n",
    "44\n",
    "18\n",
    "74\n",
    "112\n",
    "136\n",
    "30\n",
    "146\n",
    "100\n",
    "39\n",
    "130\n",
    "91\n",
    "124\n",
    "70\n",
    "115\n",
    "81\n",
    "28\n",
    "151\n",
    "2\n",
    "122\n",
    "87\n",
    "143\n",
    "62\n",
    "7\n",
    "126\n",
    "95\n",
    "75\n",
    "20\n",
    "123\n",
    "63\n",
    "125\n",
    "53\n",
    "45\n",
    "141\n",
    "14\n",
    "67\n",
    "69\n",
    "60\n",
    "114\n",
    "57\n",
    "142\n",
    "150\n",
    "42\n",
    "78\n",
    "132\n",
    "66\n",
    "88\n",
    "140\n",
    "139\n",
    "106\n",
    "38\n",
    "85\n",
    "37\n",
    "51\n",
    "94\n",
    "98\n",
    "86\n",
    "68\n",
    "'''.strip().splitlines()))"
   ]
  },
  {
   "cell_type": "code",
   "execution_count": 109,
   "metadata": {},
   "outputs": [],
   "source": [
    "inp = list(map(int, '''\n",
    "28\n",
    "33\n",
    "18\n",
    "42\n",
    "31\n",
    "14\n",
    "46\n",
    "20\n",
    "48\n",
    "47\n",
    "24\n",
    "23\n",
    "49\n",
    "45\n",
    "19\n",
    "38\n",
    "39\n",
    "11\n",
    "1\n",
    "32\n",
    "25\n",
    "35\n",
    "8\n",
    "17\n",
    "7\n",
    "9\n",
    "4\n",
    "2\n",
    "34\n",
    "10\n",
    "3\n",
    "'''.strip().splitlines()))"
   ]
  },
  {
   "cell_type": "code",
   "execution_count": 105,
   "metadata": {},
   "outputs": [],
   "source": [
    "inp = list(map(int, '''\n",
    "16\n",
    "10\n",
    "15\n",
    "5\n",
    "1\n",
    "11\n",
    "7\n",
    "19\n",
    "6\n",
    "12\n",
    "4\n",
    "'''.strip().splitlines()))"
   ]
  },
  {
   "cell_type": "code",
   "execution_count": 10,
   "metadata": {},
   "outputs": [
    {
     "data": {
      "text/plain": [
       "[16, 10, 15, 5, 1, 11, 7, 19, 6, 12]"
      ]
     },
     "execution_count": 10,
     "metadata": {},
     "output_type": "execute_result"
    }
   ],
   "source": [
    "inp[:10]"
   ]
  },
  {
   "cell_type": "code",
   "execution_count": 6,
   "metadata": {},
   "outputs": [
    {
     "name": "stdout",
     "output_type": "stream",
     "text": [
      "One 22 three 10 answer 220\n"
     ]
    }
   ],
   "source": [
    "last = 0\n",
    "\n",
    "one = 0\n",
    "three = 0\n",
    "\n",
    "for i in sorted(inp):\n",
    "    diff = i - last\n",
    "    if not (1 <= diff <= 3):\n",
    "        print('Invalid input', diff)\n",
    "        break\n",
    "    \n",
    "    if diff == 1:\n",
    "        one += 1\n",
    "    elif diff == 3:\n",
    "        three += 1\n",
    "        \n",
    "    last = i\n",
    "\n",
    "three += 1    \n",
    "    \n",
    "print('One', one, 'three', three, 'answer', one * three)"
   ]
  },
  {
   "cell_type": "code",
   "execution_count": null,
   "metadata": {},
   "outputs": [],
   "source": []
  },
  {
   "cell_type": "code",
   "execution_count": null,
   "metadata": {},
   "outputs": [],
   "source": []
  },
  {
   "cell_type": "code",
   "execution_count": 15,
   "metadata": {},
   "outputs": [],
   "source": [
    "# second part"
   ]
  },
  {
   "cell_type": "code",
   "execution_count": 113,
   "metadata": {},
   "outputs": [
    {
     "name": "stdout",
     "output_type": "stream",
     "text": [
      "4628074479616\n"
     ]
    }
   ],
   "source": [
    "# TODO: no idea how to use DP - need to investigate it, and look into a recursove solution\n",
    "\n",
    "from collections import Counter\n",
    "\n",
    "\n",
    "T = list(sorted(inp))\n",
    "T.insert(0, 0)\n",
    "T.append(T[-1] + 3)\n",
    "DP = [0 for _ in T]\n",
    "DP[-1] = 1\n",
    "\n",
    "\n",
    "for i in range(len(T)-1, -1, -1):\n",
    "    v = T[i]\n",
    "        \n",
    "    for j in range(i+1, i+4):\n",
    "        if j < len(T) and T[j] - v <= 3:\n",
    "            DP[i] += DP[j]\n",
    "    \n",
    "print(DP[0])"
   ]
  }
 ],
 "metadata": {
  "kernelspec": {
   "display_name": "Python 3",
   "language": "python",
   "name": "python3"
  },
  "language_info": {
   "codemirror_mode": {
    "name": "ipython",
    "version": 3
   },
   "file_extension": ".py",
   "mimetype": "text/x-python",
   "name": "python",
   "nbconvert_exporter": "python",
   "pygments_lexer": "ipython3",
   "version": "3.8.3"
  }
 },
 "nbformat": 4,
 "nbformat_minor": 4
}
