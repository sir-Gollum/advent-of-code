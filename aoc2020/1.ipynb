{
 "cells": [
  {
   "cell_type": "code",
   "execution_count": 4,
   "metadata": {},
   "outputs": [],
   "source": [
    "inp = list(map(int, '''\n",
    "1780 1693 1830 1756 1858 1868 1968 1809 1996 1962 1800 1974 1805 1795 170 1684 1659 1713 \n",
    "1848 1749 1717 1734 956 1782 1834 1785 1786 1994 1652 1669 1812 1954 1984 1665 1987 1562 \n",
    "2004 2010 1551 961 1854 2005 1883 1965 475 1776 1791 262 1912 1227 1486 1989 1857 825 1683 \n",
    "1991 1875 1982 1654 1767 1673 1973 1886 1731 1745 1770 1995 1721 1662 1679 1783 1999 1889 \n",
    "1746 1902 2003 1698 1794 1798 1951 1953 2007 1899 1658 1705 62 1819 1708 1666 2006 1763 1732 \n",
    "1613 1841 1747 1489 1845 2008 1885 2002 1735 1656 1771 1950 1704 1737 1748 1759 1802 2000 1955 \n",
    "1738 1761 1765 1853 1900 1709 1979 1911 1775 1813 1949 1966 1774 1977 1757 1992 2009 1956 1840 \n",
    "1988 1985 1993 1718 1976 1078 1997 1897 1792 1790 1801 1871 1727 1700 1485 942 1686 1859 1676 \n",
    "802 1952 1998 1961 1844 1808 1703 1980 1766 1963 1849 1670 1716 1957 1660 1816 1762 1829 526 \n",
    "359 2001 1874 1778 1873 1511 1810 1699 1970 1690 1978 1892 1691 1781 1777 1975 1967 1694 1969 \n",
    "1959 1910 1826 1672 1655 1839 1986 1872 1983 1981 1972 1772 1760\n",
    "'''.strip().split()))"
   ]
  },
  {
   "cell_type": "code",
   "execution_count": 6,
   "metadata": {},
   "outputs": [
    {
     "data": {
      "text/plain": [
       "200"
      ]
     },
     "execution_count": 6,
     "metadata": {},
     "output_type": "execute_result"
    }
   ],
   "source": [
    "len(inp)"
   ]
  },
  {
   "cell_type": "code",
   "execution_count": 7,
   "metadata": {},
   "outputs": [
    {
     "name": "stdout",
     "output_type": "stream",
     "text": [
      "942 1078\n"
     ]
    }
   ],
   "source": [
    "t = set()\n",
    "\n",
    "for i in inp:\n",
    "    if 2020-i in t:\n",
    "        print(i, 2020-i)\n",
    "    \n",
    "    t.add(i)"
   ]
  },
  {
   "cell_type": "code",
   "execution_count": 8,
   "metadata": {},
   "outputs": [
    {
     "data": {
      "text/plain": [
       "1015476"
      ]
     },
     "execution_count": 8,
     "metadata": {},
     "output_type": "execute_result"
    }
   ],
   "source": [
    "942 * 1078"
   ]
  },
  {
   "cell_type": "code",
   "execution_count": 9,
   "metadata": {},
   "outputs": [],
   "source": [
    "# part 2 below"
   ]
  },
  {
   "cell_type": "code",
   "execution_count": 10,
   "metadata": {},
   "outputs": [],
   "source": [
    "from itertools import combinations"
   ]
  },
  {
   "cell_type": "code",
   "execution_count": 13,
   "metadata": {},
   "outputs": [
    {
     "data": {
      "text/plain": [
       "[(1, 2, 3),\n",
       " (1, 2, 4),\n",
       " (1, 2, 5),\n",
       " (1, 2, 6),\n",
       " (1, 3, 4),\n",
       " (1, 3, 5),\n",
       " (1, 3, 6),\n",
       " (1, 4, 5),\n",
       " (1, 4, 6),\n",
       " (1, 5, 6),\n",
       " (2, 3, 4),\n",
       " (2, 3, 5),\n",
       " (2, 3, 6),\n",
       " (2, 4, 5),\n",
       " (2, 4, 6),\n",
       " (2, 5, 6),\n",
       " (3, 4, 5),\n",
       " (3, 4, 6),\n",
       " (3, 5, 6),\n",
       " (4, 5, 6)]"
      ]
     },
     "execution_count": 13,
     "metadata": {},
     "output_type": "execute_result"
    }
   ],
   "source": [
    "list(combinations([1, 2, 3, 4, 5, 6], 3))"
   ]
  },
  {
   "cell_type": "code",
   "execution_count": 14,
   "metadata": {},
   "outputs": [
    {
     "name": "stdout",
     "output_type": "stream",
     "text": [
      "(956, 262, 802)\n"
     ]
    }
   ],
   "source": [
    "for comb in combinations(inp, 3):\n",
    "    if sum(comb) == 2020:\n",
    "        print(comb)"
   ]
  },
  {
   "cell_type": "code",
   "execution_count": 16,
   "metadata": {},
   "outputs": [
    {
     "data": {
      "text/plain": [
       "200878544"
      ]
     },
     "execution_count": 16,
     "metadata": {},
     "output_type": "execute_result"
    }
   ],
   "source": [
    "956 * 262 * 802"
   ]
  },
  {
   "cell_type": "code",
   "execution_count": null,
   "metadata": {},
   "outputs": [],
   "source": []
  }
 ],
 "metadata": {
  "kernelspec": {
   "display_name": "Python 3",
   "language": "python",
   "name": "python3"
  },
  "language_info": {
   "codemirror_mode": {
    "name": "ipython",
    "version": 3
   },
   "file_extension": ".py",
   "mimetype": "text/x-python",
   "name": "python",
   "nbconvert_exporter": "python",
   "pygments_lexer": "ipython3",
   "version": "3.8.1"
  }
 },
 "nbformat": 4,
 "nbformat_minor": 4
}
