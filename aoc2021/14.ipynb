{
 "cells": [
  {
   "cell_type": "code",
   "execution_count": 1,
   "id": "0430cca1",
   "metadata": {},
   "outputs": [
    {
     "data": {
      "text/html": [
       "<style>.container { width:100% !important; }</style>"
      ],
      "text/plain": [
       "<IPython.core.display.HTML object>"
      ]
     },
     "metadata": {},
     "output_type": "display_data"
    }
   ],
   "source": [
    "from IPython.core.display import display, HTML\n",
    "display(HTML(\"<style>.container { width:100% !important; }</style>\"))"
   ]
  },
  {
   "cell_type": "markdown",
   "id": "b85c7847",
   "metadata": {},
   "source": [
    "--- Day 14: Extended Polymerization ---\n",
    "\n",
    "The incredible pressures at this depth are starting to put a strain on your submarine. The submarine has polymerization equipment that would produce suitable materials to reinforce the submarine, and the nearby volcanically-active caves should even have the necessary input elements in sufficient quantities.\n",
    "\n",
    "The submarine manual contains instructions for finding the optimal polymer formula; specifically, it offers a polymer template and a list of pair insertion rules (your puzzle input). You just need to work out what polymer would result after repeating the pair insertion process a few times.\n",
    "\n",
    "For example:\n",
    "```\n",
    "NNCB\n",
    "\n",
    "CH -> B\n",
    "HH -> N\n",
    "CB -> H\n",
    "NH -> C\n",
    "HB -> C\n",
    "HC -> B\n",
    "HN -> C\n",
    "NN -> C\n",
    "BH -> H\n",
    "NC -> B\n",
    "NB -> B\n",
    "BN -> B\n",
    "BB -> N\n",
    "BC -> B\n",
    "CC -> N\n",
    "CN -> C\n",
    "```\n",
    "The first line is the polymer template - this is the starting point of the process.\n",
    "\n",
    "The following section defines the pair insertion rules. A rule like AB -> C means that when elements A and B are immediately adjacent, element C should be inserted between them. These insertions all happen simultaneously.\n",
    "\n",
    "So, starting with the polymer template NNCB, the first step simultaneously considers all three pairs:\n",
    "\n",
    "The first pair (NN) matches the rule NN -> C, so element C is inserted between the first N and the second N.\n",
    "The second pair (NC) matches the rule NC -> B, so element B is inserted between the N and the C.\n",
    "The third pair (CB) matches the rule CB -> H, so element H is inserted between the C and the B.\n",
    "Note that these pairs overlap: the second element of one pair is the first element of the next pair. Also, because all pairs are considered simultaneously, inserted elements are not considered to be part of a pair until the next step.\n",
    "\n",
    "After the first step of this process, the polymer becomes NCNBCHB.\n",
    "\n",
    "Here are the results of a few steps using the above rules:\n",
    "\n",
    "```\n",
    "Template:     NNCB\n",
    "After step 1: NCNBCHB\n",
    "After step 2: NBCCNBBBCBHCB\n",
    "After step 3: NBBBCNCCNBBNBNBBCHBHHBCHB\n",
    "After step 4: NBBNBNBBCCNBCNCCNBBNBBNBBBNBBNBBCBHCBHHNHCBBCBHCB\n",
    "```\n",
    "\n",
    "This polymer grows quickly. After step 5, it has length 97; After step 10, it has length 3073. After step 10, B occurs 1749 times, C occurs 298 times, H occurs 161 times, and N occurs 865 times; taking the quantity of the most common element (B, 1749) and subtracting the quantity of the least common element (H, 161) produces 1749 - 161 = 1588.\n",
    "\n",
    "Apply 10 steps of pair insertion to the polymer template and find the most and least common elements in the result. What do you get if you take the quantity of the most common element and subtract the quantity of the least common element?"
   ]
  },
  {
   "cell_type": "code",
   "execution_count": 18,
   "id": "cfaca368",
   "metadata": {},
   "outputs": [],
   "source": [
    "inp = '''\n",
    "NNCB\n",
    "\n",
    "CH -> B\n",
    "HH -> N\n",
    "CB -> H\n",
    "NH -> C\n",
    "HB -> C\n",
    "HC -> B\n",
    "HN -> C\n",
    "NN -> C\n",
    "BH -> H\n",
    "NC -> B\n",
    "NB -> B\n",
    "BN -> B\n",
    "BB -> N\n",
    "BC -> B\n",
    "CC -> N\n",
    "CN -> C\n",
    "'''.strip().split('\\n\\n')"
   ]
  },
  {
   "cell_type": "code",
   "execution_count": 55,
   "id": "f0f99216",
   "metadata": {},
   "outputs": [],
   "source": [
    "inp = '''BNBBNCFHHKOSCHBKKSHN\n",
    "\n",
    "CH -> S\n",
    "KK -> V\n",
    "FS -> V\n",
    "CN -> P\n",
    "VC -> N\n",
    "CB -> V\n",
    "VK -> H\n",
    "CF -> N\n",
    "PO -> O\n",
    "KC -> S\n",
    "HC -> P\n",
    "PP -> B\n",
    "KO -> B\n",
    "BK -> P\n",
    "BH -> N\n",
    "CC -> N\n",
    "PC -> O\n",
    "FK -> N\n",
    "KF -> F\n",
    "FH -> S\n",
    "SS -> V\n",
    "ON -> K\n",
    "OV -> K\n",
    "NK -> H\n",
    "BO -> C\n",
    "VP -> O\n",
    "CS -> V\n",
    "KS -> K\n",
    "SK -> B\n",
    "OP -> S\n",
    "PK -> S\n",
    "HF -> P\n",
    "SV -> P\n",
    "SB -> C\n",
    "BC -> C\n",
    "FP -> H\n",
    "FC -> P\n",
    "PB -> N\n",
    "NV -> F\n",
    "VO -> F\n",
    "VH -> P\n",
    "BB -> N\n",
    "SF -> F\n",
    "NB -> K\n",
    "KB -> S\n",
    "VV -> S\n",
    "NP -> N\n",
    "SO -> O\n",
    "PN -> B\n",
    "BP -> H\n",
    "BV -> V\n",
    "OB -> C\n",
    "HV -> N\n",
    "PF -> B\n",
    "SP -> N\n",
    "HN -> N\n",
    "CV -> H\n",
    "BN -> V\n",
    "PS -> V\n",
    "CO -> S\n",
    "BS -> N\n",
    "VB -> H\n",
    "PV -> P\n",
    "NN -> P\n",
    "HS -> C\n",
    "OS -> P\n",
    "FB -> S\n",
    "HO -> C\n",
    "KH -> H\n",
    "HB -> K\n",
    "VF -> S\n",
    "CK -> K\n",
    "FF -> H\n",
    "FN -> P\n",
    "OK -> F\n",
    "SC -> B\n",
    "HH -> N\n",
    "OH -> O\n",
    "VS -> N\n",
    "FO -> N\n",
    "OC -> H\n",
    "NF -> F\n",
    "PH -> S\n",
    "HK -> K\n",
    "NH -> H\n",
    "FV -> S\n",
    "OF -> V\n",
    "NC -> O\n",
    "HP -> O\n",
    "KP -> B\n",
    "BF -> N\n",
    "NO -> S\n",
    "CP -> C\n",
    "NS -> N\n",
    "VN -> K\n",
    "KV -> N\n",
    "OO -> V\n",
    "SN -> O\n",
    "KN -> C\n",
    "SH -> F\n",
    "'''.strip().split('\\n\\n')"
   ]
  },
  {
   "cell_type": "code",
   "execution_count": 4,
   "id": "bbfdf066",
   "metadata": {},
   "outputs": [
    {
     "data": {
      "text/plain": [
       "['NNCB',\n",
       " 'CH -> B\\nHH -> N\\nCB -> H\\nNH -> C\\nHB -> C\\nHC -> B\\nHN -> C\\nNN -> C\\nBH -> H\\nNC -> B\\nNB -> B\\nBN -> B\\nBB -> N\\nBC -> B\\nCC -> N\\nCN -> C']"
      ]
     },
     "execution_count": 4,
     "metadata": {},
     "output_type": "execute_result"
    }
   ],
   "source": [
    "inp"
   ]
  },
  {
   "cell_type": "code",
   "execution_count": 45,
   "id": "d7b81fb4",
   "metadata": {},
   "outputs": [],
   "source": [
    "from collections import Counter, defaultdict\n",
    "from copy import deepcopy"
   ]
  },
  {
   "cell_type": "code",
   "execution_count": 56,
   "id": "c9782d58",
   "metadata": {},
   "outputs": [
    {
     "name": "stdout",
     "output_type": "stream",
     "text": [
      "0 [('N', 7), ('K', 7), ('B', 6), ('S', 4), ('H', 4), ('V', 3), ('O', 2), ('C', 2), ('F', 2), ('P', 2)]\n",
      "1 [('K', 13), ('V', 11), ('S', 11), ('N', 10), ('H', 9), ('B', 6), ('F', 6), ('C', 5), ('P', 4), ('O', 2)]\n",
      "2 [('N', 23), ('K', 22), ('V', 20), ('H', 19), ('S', 18), ('C', 14), ('F', 12), ('B', 10), ('P', 10), ('O', 5)]\n",
      "3 [('N', 49), ('V', 44), ('K', 39), ('H', 34), ('S', 33), ('P', 30), ('C', 25), ('F', 22), ('B', 16), ('O', 13)]\n",
      "4 [('N', 105), ('V', 79), ('K', 73), ('P', 70), ('H', 69), ('S', 60), ('C', 46), ('F', 44), ('B', 36), ('O', 27)]\n",
      "5 [('N', 234), ('P', 147), ('V', 146), ('K', 128), ('H', 126), ('S', 119), ('C', 93), ('F', 93), ('B', 73), ('O', 58)]\n",
      "6 [('N', 494), ('P', 320), ('V', 274), ('K', 246), ('S', 238), ('H', 221), ('F', 190), ('C', 175), ('B', 149), ('O', 126)]\n",
      "7 [('N', 994), ('P', 641), ('V', 543), ('K', 481), ('S', 479), ('H', 425), ('F', 385), ('C', 331), ('B', 325), ('O', 261)]\n",
      "8 [('N', 2028), ('P', 1290), ('V', 1096), ('K', 940), ('S', 932), ('H', 854), ('F', 745), ('B', 667), ('C', 649), ('O', 528)]\n",
      "9 [('N', 4088), ('P', 2602), ('V', 2228), ('K', 1904), ('S', 1826), ('H', 1671), ('F', 1422), ('B', 1380), ('C', 1257), ('O', 1079)]\n"
     ]
    },
    {
     "data": {
      "text/plain": [
       "3009"
      ]
     },
     "execution_count": 56,
     "metadata": {},
     "output_type": "execute_result"
    }
   ],
   "source": [
    "def solve1(data):\n",
    "    polymer = data[0]\n",
    "    rules = dict([\n",
    "        line.split(' -> ')\n",
    "        for line in data[1].splitlines()\n",
    "    ])\n",
    "    \n",
    "    for step in range(10):\n",
    "        new = ''\n",
    "        lp = len(polymer)\n",
    "        for n in range(lp - 1):\n",
    "            pair = polymer[n:n+2]\n",
    "            if n == 0:\n",
    "                new += pair[0]\n",
    "            new += rules[pair] + pair[1]\n",
    "            \n",
    "        polymer = new\n",
    "        print(step, Counter(polymer).most_common())\n",
    "    \n",
    "    c = Counter(polymer)\n",
    "    mc = c.most_common()[0]\n",
    "    lc = c.most_common()[-1]\n",
    "    \n",
    "    \n",
    "#     print(mc, lc)\n",
    "    return mc[1] - lc[1]\n",
    "    \n",
    "    \n",
    "solve1(inp)"
   ]
  },
  {
   "cell_type": "markdown",
   "id": "84929d72",
   "metadata": {},
   "source": [
    "--- Part Two ---\n",
    "\n",
    "The resulting polymer isn't nearly strong enough to reinforce the submarine. You'll need to run more steps of the pair insertion process; a total of 40 steps should do it.\n",
    "\n",
    "In the above example, the most common element is B (occurring 2192039569602 times) and the least common element is H (occurring 3849876073 times); subtracting these produces 2188189693529.\n",
    "\n",
    "Apply 40 steps of pair insertion to the polymer template and find the most and least common elements in the result. What do you get if you take the quantity of the most common element and subtract the quantity of the least common element?"
   ]
  },
  {
   "cell_type": "code",
   "execution_count": 58,
   "id": "46273f1a",
   "metadata": {
    "scrolled": false
   },
   "outputs": [
    {
     "name": "stdout",
     "output_type": "stream",
     "text": [
      "{'BN': 2, 'NB': 1, 'BB': 1, 'NC': 1, 'CF': 1, 'FH': 1, 'HH': 1, 'HK': 1, 'KO': 1, 'OS': 1, 'SC': 1, 'CH': 1, 'HB': 1, 'BK': 1, 'KK': 1, 'KS': 1, 'SH': 1, 'HN': 1}\n",
      "{'B': 4, 'N': 3, 'C': 2, 'F': 1, 'H': 4, 'K': 3, 'O': 1, 'S': 2}\n",
      "0 [('N', 7), ('K', 7), ('B', 6), ('H', 4), ('S', 4), ('V', 3), ('C', 2), ('F', 2), ('O', 2), ('P', 2)]\n",
      "1 [('K', 13), ('S', 11), ('V', 11), ('N', 10), ('H', 9), ('B', 6), ('F', 6), ('C', 5), ('P', 4), ('O', 2)]\n",
      "2 [('N', 23), ('K', 22), ('V', 20), ('H', 19), ('S', 18), ('C', 14), ('F', 12), ('B', 10), ('P', 10), ('O', 5)]\n",
      "3 [('N', 49), ('V', 44), ('K', 39), ('H', 34), ('S', 33), ('P', 30), ('C', 25), ('F', 22), ('B', 16), ('O', 13)]\n",
      "4 [('N', 105), ('V', 79), ('K', 73), ('P', 70), ('H', 69), ('S', 60), ('C', 46), ('F', 44), ('B', 36), ('O', 27)]\n",
      "5 [('N', 234), ('P', 147), ('V', 146), ('K', 128), ('H', 126), ('S', 119), ('C', 93), ('F', 93), ('B', 73), ('O', 58)]\n",
      "6 [('N', 494), ('P', 320), ('V', 274), ('K', 246), ('S', 238), ('H', 221), ('F', 190), ('C', 175), ('B', 149), ('O', 126)]\n",
      "7 [('N', 994), ('P', 641), ('V', 543), ('K', 481), ('S', 479), ('H', 425), ('F', 385), ('C', 331), ('B', 325), ('O', 261)]\n",
      "8 [('N', 2028), ('P', 1290), ('V', 1096), ('K', 940), ('S', 932), ('H', 854), ('F', 745), ('B', 667), ('C', 649), ('O', 528)]\n",
      "9 [('N', 4088), ('P', 2602), ('V', 2228), ('K', 1904), ('S', 1826), ('H', 1671), ('F', 1422), ('B', 1380), ('C', 1257), ('O', 1079)]\n",
      "10 [('N', 8195), ('P', 5178), ('V', 4511), ('K', 3833), ('S', 3639), ('H', 3348), ('B', 2814), ('F', 2728), ('C', 2490), ('O', 2177)]\n",
      "11 [('N', 16450), ('P', 10320), ('V', 9127), ('K', 7789), ('S', 7232), ('H', 6666), ('B', 5694), ('F', 5287), ('C', 4937), ('O', 4323)]\n",
      "12 [('N', 33046), ('P', 20565), ('V', 18468), ('K', 15748), ('S', 14416), ('H', 13289), ('B', 11418), ('F', 10285), ('C', 9819), ('O', 8595)]\n",
      "13 [('N', 66247), ('P', 40999), ('V', 37215), ('K', 31885), ('S', 28694), ('H', 26661), ('B', 22849), ('F', 20154), ('C', 19586), ('O', 17007)]\n",
      "14 [('N', 132917), ('P', 81888), ('V', 74695), ('K', 64336), ('S', 57077), ('H', 53591), ('B', 45683), ('F', 39622), ('C', 39143), ('O', 33641)]\n",
      "15 [('N', 266442), ('P', 163768), ('V', 149666), ('K', 129477), ('S', 113524), ('H', 107603), ('B', 91305), ('C', 78345), ('F', 78341), ('O', 66714)]\n",
      "16 [('N', 534099), ('P', 327629), ('V', 299388), ('K', 260044), ('S', 226144), ('H', 215898), ('B', 182816), ('C', 156760), ('F', 155353), ('O', 132238)]\n",
      "17 [('N', 1070457), ('P', 655446), ('V', 598514), ('K', 521534), ('S', 450615), ('H', 432856), ('B', 366056), ('C', 313962), ('F', 309060), ('O', 262237)]\n",
      "18 [('N', 2144924), ('P', 1311159), ('V', 1196674), ('K', 1044752), ('S', 898639), ('H', 867103), ('B', 732984), ('C', 628614), ('F', 615914), ('O', 520710)]\n",
      "19 [('N', 4295718), ('P', 2622745), ('V', 2392292), ('K', 2091666), ('S', 1793398), ('H', 1737369), ('B', 1467621), ('C', 1258461), ('F', 1228316), ('O', 1035359)]\n",
      "20 [('N', 8600283), ('P', 5246585), ('V', 4782895), ('K', 4185679), ('S', 3581436), ('H', 3480233), ('B', 2938195), ('C', 2519208), ('F', 2450542), ('O', 2060833)]\n",
      "21 [('N', 17213378), ('P', 10495366), ('V', 9564482), ('K', 8374675), ('S', 7154268), ('H', 6968760), ('B', 5881287), ('C', 5041628), ('F', 4890100), ('O', 4107833)]\n",
      "22 [('N', 34446430), ('P', 20994010), ('V', 19128200), ('K', 16753404), ('S', 14296627), ('H', 13950508), ('B', 11770487), ('C', 10088530), ('F', 9759922), ('O', 8195435)]\n",
      "23 [('N', 68924901), ('P', 41995299), ('V', 38256905), ('K', 33513507), ('S', 28573213), ('H', 27919590), ('B', 23553131), ('C', 20185230), ('F', 19484376), ('O', 16360953)]\n",
      "24 [('N', 137904272), ('P', 84003524), ('V', 76517031), ('K', 67035775), ('S', 57115620), ('H', 55864537), ('B', 47123352), ('C', 40381482), ('F', 38907034), ('O', 32681582)]\n",
      "25 [('N', 275896555), ('P', 168032427), ('V', 153039487), ('K', 134087189), ('S', 114177072), ('H', 111766698), ('B', 94273000), ('C', 80777609), ('F', 77710080), ('O', 65308300)]\n",
      "26 [('N', 551944883), ('P', 336111333), ('V', 306085193), ('K', 268197541), ('S', 228264749), ('H', 223586108), ('B', 188588050), ('C', 161573981), ('F', 155245541), ('O', 130539454)]\n",
      "27 [('N', 1104143132), ('P', 672303394), ('V', 612182934), ('K', 536436903), ('S', 456368721), ('H', 447240648), ('B', 377246033), ('C', 323170001), ('F', 310208429), ('O', 260973470)]\n",
      "28 [('N', 2208717409), ('P', 1344733664), ('V', 1224382203), ('K', 1072942306), ('S', 912468273), ('H', 894575338), ('B', 754614585), ('C', 646364355), ('F', 619960491), ('O', 521788705)]\n",
      "29 [('N', 4418155654), ('P', 2689663707), ('V', 2448789104), ('K', 2146007198), ('S', 1824478148), ('H', 1789283518), ('B', 1509440828), ('C', 1292758213), ('F', 1239196258), ('O', 1043322029)]\n",
      "30 [('N', 8837507418), ('P', 5379611062), ('V', 4897631162), ('K', 4292225593), ('S', 3648207751), ('H', 3578762193), ('B', 3019240353), ('C', 2585545390), ('F', 2477238379), ('O', 2086220012)]\n",
      "31 [('N', 17676938496), ('P', 10759620164), ('V', 9795371861), ('K', 8584841321), ('S', 7295190593), ('H', 7157857402), ('B', 6039082770), ('C', 5171124047), ('F', 4952636413), ('O', 4171715558)]\n",
      "32 [('N', 35356980284), ('P', 21519785483), ('V', 19590972853), ('K', 17170373386), ('S', 14588430687), ('H', 14316299782), ('B', 12079156274), ('C', 10342300022), ('F', 9902308775), ('O', 8342149703)]\n",
      "33 [('N', 70718907820), ('P', 43040320418), ('V', 39182424942), ('K', 34342003717), ('S', 29173719783), ('H', 28633624717), ('B', 24159908420), ('C', 20684694479), ('F', 19799837586), ('O', 16682072615)]\n",
      "34 [('N', 141445740828), ('P', 86081666953), ('V', 78365751166), ('K', 68686190458), ('S', 58342462875), ('H', 57269084863), ('B', 48322354615), ('C', 41369587734), ('F', 39591920044), ('O', 33360269457)]\n",
      "35 [('N', 282904189818), ('P', 172164866254), ('V', 156733061021), ('K', 137376172609), ('S', 116676935086), ('H', 114541402030), ('B', 96648707189), ('C', 82739609885), ('F', 79171270703), ('O', 66713843390)]\n",
      "36 [('N', 565828914574), ('P', 344332131687), ('V', 313468710419), ('K', 274758686395), ('S', 233341110429), ('H', 229088351669), ('B', 193303682324), ('C', 165480084069), ('F', 158322143363), ('O', 133416301040)]\n",
      "37 [('N', 1131690980008), ('P', 688668309155), ('V', 626941470236), ('K', 549527910018), ('S', 466661553972), ('H', 458186156563), ('B', 386617270349), ('C', 330961832975), ('F', 316611279018), ('O', 266813469643)]\n",
      "38 [('N', 2263435938175), ('P', 1377343665776), ('V', 1253888976429), ('K', 1099072832497), ('S', 933289730337), ('H', 916388101946), ('B', 773250375663), ('C', 661926756131), ('F', 633169108816), ('O', 533594978103)]\n",
      "39 [('N', 4526959716891), ('P', 2754699843767), ('V', 2507786823168), ('K', 2198172989596), ('S', 1866525014660), ('H', 1832802097842), ('B', 1546526339315), ('C', 1323859038058), ('F', 1266251887008), ('O', 1067137177440)]\n"
     ]
    },
    {
     "data": {
      "text/plain": [
       "3459822539451"
      ]
     },
     "execution_count": 58,
     "metadata": {},
     "output_type": "execute_result"
    }
   ],
   "source": [
    "def solve2(data):\n",
    "    polymer = data[0]\n",
    "    rules = dict([\n",
    "        line.split(' -> ')\n",
    "        for line in data[1].splitlines()\n",
    "    ])\n",
    "        \n",
    "    pairs = defaultdict(int)\n",
    "    letters = Counter(polymer)\n",
    "    \n",
    "    lp = len(polymer)\n",
    "    for n in range(lp - 1):\n",
    "        pair = polymer[n:n+2]\n",
    "        pairs[pair] += 1\n",
    "        \n",
    "    print(dict(pairs))\n",
    "    print(dict(letters))\n",
    "                \n",
    "    for step in range(40):\n",
    "        new_pairs = defaultdict(int)\n",
    "        \n",
    "        for pair, pair_count in pairs.items():\n",
    "            ext = rules[pair]\n",
    "            new_pairs[pair[0] + ext] += pair_count\n",
    "            new_pairs[ext + pair[1]] += pair_count\n",
    "            letters.update({ext: pair_count})\n",
    "        \n",
    "        pairs = new_pairs\n",
    "        print(step, letters.most_common())\n",
    "#         print(dict(pairs))\n",
    "#         print()\n",
    "    \n",
    "    mc = letters.most_common()[0]\n",
    "    lc = letters.most_common()[-1]\n",
    "    return mc[1] - lc[1]\n",
    "    \n",
    "solve2(inp)"
   ]
  },
  {
   "cell_type": "code",
   "execution_count": null,
   "id": "63f469f2",
   "metadata": {},
   "outputs": [],
   "source": []
  }
 ],
 "metadata": {
  "kernelspec": {
   "display_name": "Python 3 (ipykernel)",
   "language": "python",
   "name": "python3"
  },
  "language_info": {
   "codemirror_mode": {
    "name": "ipython",
    "version": 3
   },
   "file_extension": ".py",
   "mimetype": "text/x-python",
   "name": "python",
   "nbconvert_exporter": "python",
   "pygments_lexer": "ipython3",
   "version": "3.9.6"
  }
 },
 "nbformat": 4,
 "nbformat_minor": 5
}
