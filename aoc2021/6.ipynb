{
 "cells": [
  {
   "cell_type": "code",
   "execution_count": 33,
   "id": "b9a92808",
   "metadata": {},
   "outputs": [],
   "source": [
    "inp = list(map(int, '3,4,3,1,2'.split(',')))"
   ]
  },
  {
   "cell_type": "code",
   "execution_count": 35,
   "id": "e8c3a288",
   "metadata": {},
   "outputs": [],
   "source": [
    "inp = list(map(int, \"\"\"\n",
    "5,3,2,2,1,1,4,1,5,5,1,3,1,5,1,2,1,4,1,2,1,2,1,4,2,4,1,5,1,3,5,4,3,3,1,4,1,3,4,4,1,5,4,3,3,2,5,1,1,3,1,4,3,2,2,3,1,3,1,3,1,5,3,5,1,3,1,4,2,1,4,1,5,5,5,2,4,2,1,4,1,3,5,5,1,4,1,1,4,2,2,1,3,1,1,1,1,3,4,1,4,1,1,1,4,4,4,1,3,1,3,4,1,4,1,2,2,2,5,4,1,3,1,2,1,4,1,4,5,2,4,5,4,1,2,1,4,2,2,2,1,3,5,2,5,1,1,4,5,4,3,2,4,1,5,2,2,5,1,4,1,5,1,3,5,1,2,1,1,1,5,4,4,5,1,1,1,4,1,3,3,5,5,1,5,2,1,1,3,1,1,3,2,3,4,4,1,5,5,3,2,1,1,1,4,3,1,3,3,1,1,2,2,1,2,2,2,1,1,5,1,2,2,5,2,4,1,1,2,4,1,2,3,4,1,2,1,2,4,2,1,1,5,3,1,4,4,4,1,5,2,3,4,4,1,5,1,2,2,4,1,1,2,1,1,1,1,5,1,3,3,1,1,1,1,4,1,2,2,5,1,2,1,3,4,1,3,4,3,3,1,1,5,5,5,2,4,3,1,4\n",
    "\"\"\".strip().split(',')))"
   ]
  },
  {
   "cell_type": "code",
   "execution_count": 23,
   "id": "639ac1ac",
   "metadata": {},
   "outputs": [
    {
     "data": {
      "text/plain": [
       "[3, 4, 3, 1, 2]"
      ]
     },
     "execution_count": 23,
     "metadata": {},
     "output_type": "execute_result"
    }
   ],
   "source": [
    "inp"
   ]
  },
  {
   "cell_type": "code",
   "execution_count": 24,
   "id": "130ac202",
   "metadata": {},
   "outputs": [],
   "source": [
    "# part 1"
   ]
  },
  {
   "cell_type": "code",
   "execution_count": 26,
   "id": "cc9a16d6",
   "metadata": {},
   "outputs": [
    {
     "data": {
      "text/plain": [
       "5934"
      ]
     },
     "execution_count": 26,
     "metadata": {},
     "output_type": "execute_result"
    }
   ],
   "source": [
    "def solve1(data, steps):\n",
    "    state = data[:]\n",
    "    \n",
    "    \n",
    "    for d in range(steps):\n",
    "        ls = len(state)\n",
    "        for i in range(ls):\n",
    "            if state[i] == 0:\n",
    "                state.append(8)\n",
    "                state[i] = 6\n",
    "            else:\n",
    "                state[i] -= 1\n",
    "#         print(f'After day {d+1}: {state}')\n",
    "\n",
    "    return len(state)\n",
    "\n",
    "    \n",
    "    \n",
    "solve1(inp, 80)"
   ]
  },
  {
   "cell_type": "code",
   "execution_count": 27,
   "id": "e2022392",
   "metadata": {},
   "outputs": [],
   "source": [
    "# part 2"
   ]
  },
  {
   "cell_type": "code",
   "execution_count": 36,
   "id": "f2458fa0",
   "metadata": {},
   "outputs": [
    {
     "data": {
      "text/plain": [
       "1631647919273"
      ]
     },
     "execution_count": 36,
     "metadata": {},
     "output_type": "execute_result"
    }
   ],
   "source": [
    "def solve2(data, steps):\n",
    "    state = {i: 0 for i in range(9)}\n",
    "    \n",
    "    for n in data[:]:\n",
    "        state[n] += 1\n",
    "    \n",
    "    for d in range(steps):\n",
    "        new_state = {i: 0 for i in range(9)}        \n",
    "        \n",
    "        new_state[8] = state[0]\n",
    "        new_state[6] = state[7] + state[0]\n",
    "        new_state[7] = state[8]\n",
    "        \n",
    "        for i in range(6):\n",
    "            new_state[i] = state[i+1]\n",
    "        \n",
    "        state = new_state\n",
    "\n",
    "    return sum(state.values())\n",
    "\n",
    "    \n",
    "    \n",
    "solve2(inp, 256)"
   ]
  },
  {
   "cell_type": "code",
   "execution_count": null,
   "id": "2f3de01f",
   "metadata": {},
   "outputs": [],
   "source": []
  }
 ],
 "metadata": {
  "kernelspec": {
   "display_name": "Python 3 (ipykernel)",
   "language": "python",
   "name": "python3"
  },
  "language_info": {
   "codemirror_mode": {
    "name": "ipython",
    "version": 3
   },
   "file_extension": ".py",
   "mimetype": "text/x-python",
   "name": "python",
   "nbconvert_exporter": "python",
   "pygments_lexer": "ipython3",
   "version": "3.9.6"
  }
 },
 "nbformat": 4,
 "nbformat_minor": 5
}
